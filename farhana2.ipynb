{
 "cells": [
  {
   "cell_type": "code",
   "execution_count": 15,
   "id": "ce060903-aa75-44fa-a4fb-911d1db9f519",
   "metadata": {},
   "outputs": [
    {
     "name": "stdout",
     "output_type": "stream",
     "text": [
      "Temperature: 32 Degree Celcius,Humidity: 50%, Weather: Sunny\n",
      "Average Temperature: 22.7 Degree Celcius\n",
      "Average Humidity: 75.0 %\n",
      "Temperature: 30 Degree Celcius,Humidity: 60%, Weather: Cloudy\n",
      "Average Temperature: 22.7 Degree Celcius\n",
      "Average Humidity: 75.0 %\n",
      "Temperature: 25 Degree Celcius,Humidity: 70%, Weather: Cloudy\n",
      "Average Temperature: 22.7 Degree Celcius\n",
      "Average Humidity: 75.0 %\n",
      "Temperature: 22 Degree Celcius,Humidity: 80%, Weather: Cloudy\n",
      "Average Temperature: 22.7 Degree Celcius\n",
      "Average Humidity: 75.0 %\n",
      "Temperature: 15 Degree Celcius,Humidity: 90%, Weather: Cloudy\n",
      "Average Temperature: 22.7 Degree Celcius\n",
      "Average Humidity: 75.0 %\n",
      "Temperature: 12 Degree Celcius,Humidity: 100%, Weather: Rainy\n",
      "Average Temperature: 22.7 Degree Celcius\n",
      "Average Humidity: 75.0 %\n"
     ]
    }
   ],
   "source": [
    "def analyze_weather(temp,humi):\n",
    "    if temp > 25 and humi < 60:\n",
    "        return \"Sunny\"\n",
    "    elif temp < 15 and humi > 80:\n",
    "        return \"Rainy\"\n",
    "    else:\n",
    "        return \"Cloudy\"\n",
    "def calc_average(data):\n",
    "    total = sum(data)\n",
    "    count = len(data)\n",
    "    average =total / count\n",
    "    return average\n",
    "temp1=[32,30,25,22,15,12]\n",
    "humi1=[50,60,70,80,90,100]\n",
    "for i in range(len(temp1)):\n",
    "    temp = temp1[i]\n",
    "    humi = humi1[i]\n",
    "    weather = analyze_weather(temp,humi)\n",
    "    print(f\"Temperature: {temp} Degree Celcius,Humidity: {humi}%, Weather: {weather}\")\n",
    "    average_temp = calc_average(temp1)\n",
    "    average_humi = calc_average(humi1)\n",
    "    print(f\"Average Temperature: {average_temp:.1f} Degree Celcius\")\n",
    "    print(f\"Average Humidity: {average_humi:.1f} %\")"
   ]
  },
  {
   "cell_type": "code",
   "execution_count": null,
   "id": "fd670d43-aecb-4553-b5ac-b4afa6e3b8c3",
   "metadata": {},
   "outputs": [],
   "source": []
  }
 ],
 "metadata": {
  "kernelspec": {
   "display_name": "Python 3 (ipykernel)",
   "language": "python",
   "name": "python3"
  },
  "language_info": {
   "codemirror_mode": {
    "name": "ipython",
    "version": 3
   },
   "file_extension": ".py",
   "mimetype": "text/x-python",
   "name": "python",
   "nbconvert_exporter": "python",
   "pygments_lexer": "ipython3",
   "version": "3.12.4"
  }
 },
 "nbformat": 4,
 "nbformat_minor": 5
}
