{
 "cells": [
  {
   "cell_type": "code",
   "execution_count": 7,
   "id": "09cb9f80-7429-4de2-82f8-c85b29599783",
   "metadata": {},
   "outputs": [
    {
     "name": "stdout",
     "output_type": "stream",
     "text": [
      "\n",
      " Bank Management System \n",
      "1. Create an account\n",
      "2. Deposit\n",
      "3. Withdraw\n",
      "4. Check balance\n",
      "5. Exit\n"
     ]
    },
    {
     "name": "stdin",
     "output_type": "stream",
     "text": [
      "Enter your choice:  1\n",
      "Enter account holder's name:  Anu\n",
      "Enter initial deposit amount:  10000\n"
     ]
    },
    {
     "name": "stdout",
     "output_type": "stream",
     "text": [
      "Account created for Anu with initial deposit 10000.0\n",
      "\n",
      " Bank Management System \n",
      "1. Create an account\n",
      "2. Deposit\n",
      "3. Withdraw\n",
      "4. Check balance\n",
      "5. Exit\n"
     ]
    },
    {
     "name": "stdin",
     "output_type": "stream",
     "text": [
      "Enter your choice:  1\n",
      "Enter account holder's name:  Sanju\n",
      "Enter initial deposit amount:  8000\n"
     ]
    },
    {
     "name": "stdout",
     "output_type": "stream",
     "text": [
      "Account created for Sanju with initial deposit 8000.0\n",
      "\n",
      " Bank Management System \n",
      "1. Create an account\n",
      "2. Deposit\n",
      "3. Withdraw\n",
      "4. Check balance\n",
      "5. Exit\n"
     ]
    },
    {
     "name": "stdin",
     "output_type": "stream",
     "text": [
      "Enter your choice:  2\n",
      "Enter account holder's name:  Sanju\n",
      "Enter amount to deposit:  2000\n"
     ]
    },
    {
     "name": "stdout",
     "output_type": "stream",
     "text": [
      "Deposited 2000.0\n",
      "\n",
      " Bank Management System \n",
      "1. Create an account\n",
      "2. Deposit\n",
      "3. Withdraw\n",
      "4. Check balance\n",
      "5. Exit\n"
     ]
    },
    {
     "name": "stdin",
     "output_type": "stream",
     "text": [
      "Enter your choice:  3\n",
      "Enter account holder's name:  Anu\n",
      "Enter amount to withdraw:  5000\n"
     ]
    },
    {
     "name": "stdout",
     "output_type": "stream",
     "text": [
      "Withdrew 5000.0\n",
      "\n",
      " Bank Management System \n",
      "1. Create an account\n",
      "2. Deposit\n",
      "3. Withdraw\n",
      "4. Check balance\n",
      "5. Exit\n"
     ]
    },
    {
     "name": "stdin",
     "output_type": "stream",
     "text": [
      "Enter your choice:  3\n",
      "Enter account holder's name:  Anu\n",
      "Enter amount to withdraw:  10000\n"
     ]
    },
    {
     "name": "stdout",
     "output_type": "stream",
     "text": [
      "Insufficient balance\n",
      "\n",
      " Bank Management System \n",
      "1. Create an account\n",
      "2. Deposit\n",
      "3. Withdraw\n",
      "4. Check balance\n",
      "5. Exit\n"
     ]
    },
    {
     "name": "stdin",
     "output_type": "stream",
     "text": [
      "Enter your choice:  4\n",
      "Enter account holder's name:  Anu\n"
     ]
    },
    {
     "name": "stdout",
     "output_type": "stream",
     "text": [
      "Balance for Anu: 5000.0\n",
      "\n",
      " Bank Management System \n",
      "1. Create an account\n",
      "2. Deposit\n",
      "3. Withdraw\n",
      "4. Check balance\n",
      "5. Exit\n"
     ]
    },
    {
     "name": "stdin",
     "output_type": "stream",
     "text": [
      "Enter your choice:  4\n",
      "Enter account holder's name:  Sanju\n"
     ]
    },
    {
     "name": "stdout",
     "output_type": "stream",
     "text": [
      "Balance for Sanju: 10000.0\n",
      "\n",
      " Bank Management System \n",
      "1. Create an account\n",
      "2. Deposit\n",
      "3. Withdraw\n",
      "4. Check balance\n",
      "5. Exit\n"
     ]
    },
    {
     "name": "stdin",
     "output_type": "stream",
     "text": [
      "Enter your choice:  5\n"
     ]
    },
    {
     "name": "stdout",
     "output_type": "stream",
     "text": [
      "Thank you for using the bank management system.\n"
     ]
    }
   ],
   "source": [
    " class BankAccount:\n",
    "    def __init__(self, name, balance=0.0):\n",
    "        self.name = name\n",
    "        self.balance = balance\n",
    "\n",
    "    def deposit(self, amount):\n",
    "        self.balance += amount\n",
    "        print(f\"Deposited {amount}\")\n",
    "\n",
    "    def withdraw(self, amount):\n",
    "        if amount > self.balance:\n",
    "            print(\"Insufficient balance\")\n",
    "        else:\n",
    "            self.balance -= amount\n",
    "            print(f\"Withdrew {amount}\")\n",
    "\n",
    "    def check_balance(self):\n",
    "        print(f\"Balance for {self.name}: {self.balance}\")\n",
    "        \n",
    "if __name__ == \"__main__\":\n",
    "    accounts = {} # Dictionary to store accounts\n",
    "\n",
    "    while True:\n",
    "        print(\"\\n Bank Management System \")\n",
    "        print(\"1. Create an account\")\n",
    "        print(\"2. Deposit\")\n",
    "        print(\"3. Withdraw\")\n",
    "        print(\"4. Check balance\")\n",
    "        print(\"5. Exit\")\n",
    "\n",
    "        choice = input(\"Enter your choice: \")\n",
    "\n",
    "        if choice == '1':\n",
    "            name = input(\"Enter account holder's name: \")\n",
    "            initial_deposit = float(input(\"Enter initial deposit amount: \"))\n",
    "            accounts[name] = BankAccount(name, initial_deposit)\n",
    "            print(f\"Account created for {name} with initial deposit {initial_deposit}\")\n",
    "\n",
    "        elif choice == '2':\n",
    "            name = input(\"Enter account holder's name: \")\n",
    "            amount = float(input(\"Enter amount to deposit: \"))\n",
    "            accounts[name].deposit(amount)\n",
    "\n",
    "        elif choice == '3':\n",
    "            name = input(\"Enter account holder's name: \")\n",
    "            amount = float(input(\"Enter amount to withdraw: \"))\n",
    "            accounts[name].withdraw(amount)\n",
    "\n",
    "        elif choice == '4':\n",
    "            name = input(\"Enter account holder's name: \")\n",
    "            accounts[name].check_balance()\n",
    "\n",
    "        elif choice == '5':\n",
    "            print(\"Thank you for using the bank management system.\")\n",
    "            break\n",
    "\n",
    "        else:\n",
    "            print(\"Invalid choice. Please enter a number between 1 and 5.\")"
   ]
  },
  {
   "cell_type": "code",
   "execution_count": null,
   "id": "1bcb1993-0e24-4d09-8e5f-e8433ab35f13",
   "metadata": {},
   "outputs": [],
   "source": []
  }
 ],
 "metadata": {
  "kernelspec": {
   "display_name": "Python 3 (ipykernel)",
   "language": "python",
   "name": "python3"
  },
  "language_info": {
   "codemirror_mode": {
    "name": "ipython",
    "version": 3
   },
   "file_extension": ".py",
   "mimetype": "text/x-python",
   "name": "python",
   "nbconvert_exporter": "python",
   "pygments_lexer": "ipython3",
   "version": "3.12.4"
  }
 },
 "nbformat": 4,
 "nbformat_minor": 5
}
